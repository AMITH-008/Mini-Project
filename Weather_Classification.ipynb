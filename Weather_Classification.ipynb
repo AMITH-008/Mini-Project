{
  "nbformat": 4,
  "nbformat_minor": 0,
  "metadata": {
    "colab": {
      "name": "Weather_Classification.ipynb",
      "provenance": [],
      "toc_visible": true,
      "mount_file_id": "1rpkFYp_7ykAy8oqLlTkuV7SbXY3v2b0u",
      "authorship_tag": "ABX9TyNOliMOqLGYKoJcvo2X4AqY",
      "include_colab_link": true
    },
    "kernelspec": {
      "name": "python3",
      "display_name": "Python 3"
    },
    "language_info": {
      "name": "python"
    }
  },
  "cells": [
    {
      "cell_type": "markdown",
      "metadata": {
        "id": "view-in-github",
        "colab_type": "text"
      },
      "source": [
        "<a href=\"https://colab.research.google.com/github/AMITH-008/Mini-Project/blob/main/Weather_Classification.ipynb\" target=\"_parent\"><img src=\"https://colab.research.google.com/assets/colab-badge.svg\" alt=\"Open In Colab\"/></a>"
      ]
    },
    {
      "cell_type": "markdown",
      "metadata": {
        "id": "JTaqWmPp1mh9"
      },
      "source": [
        "**IMPORTING LIBRARIES**"
      ]
    },
    {
      "cell_type": "code",
      "metadata": {
        "id": "V777r_JZ0lCT"
      },
      "source": [
        "import os\n",
        "import pandas as pd\n",
        "from skimage.transform import resize\n",
        "from skimage.io import imread\n",
        "from sklearn.model_selection import train_test_split #TO SPLIT THE DATASET INTO TRAIN AND TEST DATA\n",
        "from sklearn.svm import SVC #SUPPORT VECTOR MACHINE ALGORITHM\n",
        "from sklearn.metrics import confusion_matrix, classification_report,accuracy_score\n",
        "import matplotlib.pyplot as plt\n",
        "import seaborn as sb"
      ],
      "execution_count": 165,
      "outputs": []
    },
    {
      "cell_type": "markdown",
      "metadata": {
        "id": "DeI3N1mj1v5M"
      },
      "source": [
        "**DATA GATHERING AND PREPROCESSING**"
      ]
    },
    {
      "cell_type": "code",
      "metadata": {
        "id": "aJmahc7c2KIL"
      },
      "source": [
        "kinds = [\"Cloudy\", \"Rainy\", \"Sunrise\", \"Sunshine\"]\n",
        "flat_image = []\n",
        "target = []\n",
        "dir = \"/content/Weather_Dataset/Weather\"\n",
        "try:\n",
        "  os.rmdir(os.path.join(dir, os.listdir(dir)[0]))\n",
        "except:\n",
        "  pass\n",
        "\n",
        "#Resize the images and storing it in dataftrame\n",
        "for folder in os.listdir(dir):\n",
        "  num = kinds.index(folder)\n",
        "  path = os.path.join(dir, folder)\n",
        "  for img in os.listdir(path):\n",
        "    image= imread(os.path.join(path,img))\n",
        "    image_resize = resize(image, output_shape=(64,64,3))\n",
        "    flat_image.append(image_resize.flatten())\n",
        "    target.append(num)"
      ],
      "execution_count": 167,
      "outputs": []
    },
    {
      "cell_type": "markdown",
      "metadata": {
        "id": "TcZvgyvs3r-3"
      },
      "source": [
        "**SPLITTING DATASET AS TRAINING AND TESTING DATASET**"
      ]
    },
    {
      "cell_type": "code",
      "metadata": {
        "id": "5cjQHOSd32a9"
      },
      "source": [
        "x_train, x_test, y_train, y_test = train_test_split(flat_image, target, test_size=0.1, random_state=1)"
      ],
      "execution_count": 168,
      "outputs": []
    },
    {
      "cell_type": "markdown",
      "metadata": {
        "id": "stazWqFf4Erb"
      },
      "source": [
        "**TRAINING THE MODEL AND HYPERTUNING PARAMETERS USING SVM CLASSIFIER**"
      ]
    },
    {
      "cell_type": "code",
      "metadata": {
        "id": "MYHiwMWb4Q5X"
      },
      "source": [
        "from sklearn.svm import SVC\n",
        "from sklearn.model_selection import GridSearchCV\n",
        "\n",
        "model = SVC(gamma='scale')\n",
        "parameter_grid = {'C':[1, 2, 3, 7, 10], 'kernel':['linear', 'rbf']}\n",
        "classifier = GridSearchCV(estimator=model, param_grid=parameter_grid,scoring='accuracy',cv=5,n_jobs=-1)"
      ],
      "execution_count": 169,
      "outputs": []
    },
    {
      "cell_type": "code",
      "metadata": {
        "colab": {
          "base_uri": "https://localhost:8080/"
        },
        "id": "YZxPFol45x6Z",
        "outputId": "10e18f8e-c0d9-4d27-8341-d2be293cca59"
      },
      "source": [
        "classifier.fit(x_train , y_train)"
      ],
      "execution_count": 170,
      "outputs": [
        {
          "output_type": "execute_result",
          "data": {
            "text/plain": [
              "GridSearchCV(cv=5, error_score=nan,\n",
              "             estimator=SVC(C=1.0, break_ties=False, cache_size=200,\n",
              "                           class_weight=None, coef0=0.0,\n",
              "                           decision_function_shape='ovr', degree=3,\n",
              "                           gamma='scale', kernel='rbf', max_iter=-1,\n",
              "                           probability=False, random_state=None, shrinking=True,\n",
              "                           tol=0.001, verbose=False),\n",
              "             iid='deprecated', n_jobs=-1,\n",
              "             param_grid={'C': [1, 2, 3, 7, 10], 'kernel': ['linear', 'rbf']},\n",
              "             pre_dispatch='2*n_jobs', refit=True, return_train_score=False,\n",
              "             scoring='accuracy', verbose=0)"
            ]
          },
          "metadata": {
            "tags": []
          },
          "execution_count": 170
        }
      ]
    },
    {
      "cell_type": "code",
      "metadata": {
        "colab": {
          "base_uri": "https://localhost:8080/"
        },
        "id": "bbaIE4fG6F3-",
        "outputId": "fffc0656-76b9-4d16-bb57-b3f38ba5e1a8"
      },
      "source": [
        "best_parameters = classifier.best_params_\n",
        "print(\"BEST_PARAMETERS:\",best_parameters)"
      ],
      "execution_count": 171,
      "outputs": [
        {
          "output_type": "stream",
          "text": [
            "BEST_PARAMETERS: {'C': 10, 'kernel': 'rbf'}\n"
          ],
          "name": "stdout"
        }
      ]
    },
    {
      "cell_type": "code",
      "metadata": {
        "colab": {
          "base_uri": "https://localhost:8080/"
        },
        "id": "uvI-91ec6QIn",
        "outputId": "e8735081-d815-4de2-a7e3-92aae6756fc6"
      },
      "source": [
        "best_result = classifier.best_score_\n",
        "print(\"BEST_SCORE: \",best_result)"
      ],
      "execution_count": 172,
      "outputs": [
        {
          "output_type": "stream",
          "text": [
            "BEST_SCORE:  0.8486257928118393\n"
          ],
          "name": "stdout"
        }
      ]
    },
    {
      "cell_type": "code",
      "metadata": {
        "colab": {
          "base_uri": "https://localhost:8080/"
        },
        "id": "bLL71CEOJGQO",
        "outputId": "8f1ce620-2ac4-4716-e978-e28bddc18b5e"
      },
      "source": [
        "print(\"classifier_score: \", classifier.score(x_test, y_test))"
      ],
      "execution_count": 173,
      "outputs": [
        {
          "output_type": "stream",
          "text": [
            "classifier_score:  0.92\n"
          ],
          "name": "stdout"
        }
      ]
    },
    {
      "cell_type": "markdown",
      "metadata": {
        "id": "BPogdwG5NVHG"
      },
      "source": [
        "**EVALUATION OF MODEL ON TEST DATA**"
      ]
    },
    {
      "cell_type": "code",
      "metadata": {
        "colab": {
          "base_uri": "https://localhost:8080/",
          "height": 638
        },
        "id": "u79vpBmRNUVV",
        "outputId": "d0ad7c7b-11a9-4246-f242-d8d974f9cdd8"
      },
      "source": [
        "y_pred = classifier.predict(x_test)\n",
        "cm = confusion_matrix(y_test, y_pred)\n",
        "plt.figure(figsize=(10,10))\n",
        "sb.heatmap(cm, annot=True, cmap=\"YlGnBu\",xticklabels=kinds, yticklabels=kinds)\n",
        "plt.title(\"CONFUSION MATRIX\")\n",
        "plt.xlabel(\"Predicted\")\n",
        "plt.ylabel(\"True_Values\")"
      ],
      "execution_count": 174,
      "outputs": [
        {
          "output_type": "execute_result",
          "data": {
            "text/plain": [
              "Text(69.0, 0.5, 'True_Values')"
            ]
          },
          "metadata": {
            "tags": []
          },
          "execution_count": 174
        },
        {
          "output_type": "display_data",
          "data": {
            "image/png": "[encoded data removed]",
            "text/plain": [
              "<Figure size 720x720 with 2 Axes>"
            ]
          },
          "metadata": {
            "tags": [],
            "needs_background": "light"
          }
        }
      ]
    },
    {
      "cell_type": "code",
      "metadata": {
        "colab": {
          "base_uri": "https://localhost:8080/"
        },
        "id": "ubQjM_mOQczV",
        "outputId": "7a08043c-2ac7-4d52-a4de-c7fbb409f13c"
      },
      "source": [
        "print(\"CLASSIFICATION_REPORT:\\n\",classification_report(y_test, y_pred))\n",
        "print(\"ACCURACY_SCORE: \",accuracy_score(y_test, y_pred))"
      ],
      "execution_count": 175,
      "outputs": [
        {
          "output_type": "stream",
          "text": [
            "CLASSIFICATION_REPORT:\n",
            "               precision    recall  f1-score   support\n",
            "\n",
            "           0       0.91      0.91      0.91        11\n",
            "           1       1.00      1.00      1.00         3\n",
            "           2       1.00      1.00      1.00         5\n",
            "           3       0.83      0.83      0.83         6\n",
            "\n",
            "    accuracy                           0.92        25\n",
            "   macro avg       0.94      0.94      0.94        25\n",
            "weighted avg       0.92      0.92      0.92        25\n",
            "\n",
            "ACCURACY_SCORE:  0.92\n"
          ],
          "name": "stdout"
        }
      ]
    },
    {
      "cell_type": "markdown",
      "metadata": {
        "id": "Ww0MhkIgQotf"
      },
      "source": [
        "**TESTING MODEL ON NEW IMAGES**"
      ]
    },
    {
      "cell_type": "code",
      "metadata": {
        "id": "fUXRik3mQoLV"
      },
      "source": [
        "path = \"/content/Weather_Dataset/New_data\"\n",
        "true = os.listdir(path)\n",
        "result = []\n",
        "for img in os.listdir(path):\n",
        "  img_path= os.path.join(path, img)\n",
        "  test_image = imread(img_path)\n",
        "  test_image_resize = resize(test_image, (64,64,3))\n",
        "  flat_test_image = test_image_resize.flatten()\n",
        "  result.append(kinds[classifier.predict([flat_test_image])[0]])\n"
      ],
      "execution_count": 176,
      "outputs": []
    },
    {
      "cell_type": "code",
      "metadata": {
        "colab": {
          "base_uri": "https://localhost:8080/"
        },
        "id": "bwWECBKkFEJc",
        "outputId": "9dd0332e-c8a1-4898-ac1f-820e9ab32f7d"
      },
      "source": [
        "df = pd.DataFrame({\"TRUE_IMAGE\":true, \"PREDICTED_IMAGE\":result})\n",
        "print(df)"
      ],
      "execution_count": 177,
      "outputs": [
        {
          "output_type": "stream",
          "text": [
            "       TRUE_IMAGE PREDICTED_IMAGE\n",
            "0    shine131.jpg           Rainy\n",
            "1     shine97.jpg        Sunshine\n",
            "2      rain67.jpg          Cloudy\n",
            "3   sunrise75.jpg         Sunrise\n",
            "4     shine86.jpg        Sunshine\n",
            "5   sunrise78.jpg         Sunrise\n",
            "6   cloudy139.jpg          Cloudy\n",
            "7   sunrise20.jpg         Sunrise\n",
            "8      rain34.jpg           Rainy\n",
            "9      rain72.jpg          Cloudy\n",
            "10  cloudy138.jpg          Cloudy\n",
            "11  cloudy112.jpg        Sunshine\n"
          ],
          "name": "stdout"
        }
      ]
    }
  ]
}